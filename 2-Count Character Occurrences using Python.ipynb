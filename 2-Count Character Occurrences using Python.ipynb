{
 "cells": [
  {
   "cell_type": "markdown",
   "id": "5c13577a",
   "metadata": {},
   "source": [
    "### Count Character Occurrences using Python"
   ]
  },
  {
   "cell_type": "code",
   "execution_count": 9,
   "id": "bb55ef46",
   "metadata": {},
   "outputs": [
    {
     "name": "stdout",
     "output_type": "stream",
     "text": [
      "Enter your string : hello\n",
      "{'h': 1, 'e': 1, 'l': 2, 'o': 1}\n"
     ]
    }
   ],
   "source": [
    "# Define a function named 'countcharacters' that takes a string parameter 'char'\n",
    "def countcharacters(char):\n",
    "    \n",
    "    # Create an empty dictionary 'count' to store character counts\n",
    "    count ={}\n",
    "    \n",
    "    # Iterate over each character in the string 'char'\n",
    "    for i in char:\n",
    "        \n",
    "        # Check if the character 'i' is already a key in the dictionary 'count'\n",
    "        if i in count:\n",
    "            # If the character exists in the dictionary, increment its count by 1\n",
    "            count[i] = count[i] + 1\n",
    "        else:\n",
    "            # If the character does not exist in the dictionary, initialize its count to 1\n",
    "            count[i] = 1\n",
    "            \n",
    "    # Print the resulting dictionary containing character counts\n",
    "    print(count)\n",
    "\n",
    "# Prompt the user to enter a string and store it in the variable 'word'    \n",
    "word = input(\"Enter your string : \")\n",
    "\n",
    "# Call the 'countcharacters' function with the 'word' as an argument\n",
    "countcharacters(word)    "
   ]
  }
 ],
 "metadata": {
  "kernelspec": {
   "display_name": "Python 3 (ipykernel)",
   "language": "python",
   "name": "python3"
  },
  "language_info": {
   "codemirror_mode": {
    "name": "ipython",
    "version": 3
   },
   "file_extension": ".py",
   "mimetype": "text/x-python",
   "name": "python",
   "nbconvert_exporter": "python",
   "pygments_lexer": "ipython3",
   "version": "3.9.13"
  }
 },
 "nbformat": 4,
 "nbformat_minor": 5
}
