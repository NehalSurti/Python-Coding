{
 "cells": [
  {
   "cell_type": "code",
   "execution_count": 2,
   "id": "07eadb4c",
   "metadata": {},
   "outputs": [
    {
     "name": "stdout",
     "output_type": "stream",
     "text": [
      "Enter your height in centimeters: 180\n",
      "Enter your weight in kg: 100\n",
      "\n",
      "Your Body Mass Index is: 30.86\n",
      "You are severely overweight\n"
     ]
    }
   ],
   "source": [
    "def calculate_bmi(height, weight):\n",
    "    height_meters = height / 100\n",
    "    bmi = round(weight / (height_meters ** 2), 2)\n",
    "    return bmi\n",
    "\n",
    "def interpret_bmi(bmi):\n",
    "    if bmi <= 16:\n",
    "        return \"severely underweight\"\n",
    "    elif bmi <= 18.5:\n",
    "        return \"underweight\"\n",
    "    elif bmi <= 25:\n",
    "        return \"healthy\"\n",
    "    elif bmi <= 30:\n",
    "        return \"overweight\"\n",
    "    else:\n",
    "        return \"severely overweight\"\n",
    "\n",
    "try:\n",
    "    height = float(input(\"Enter your height in centimeters: \"))\n",
    "    weight = float(input(\"Enter your weight in kg: \"))\n",
    "\n",
    "    if height <= 0 or weight <= 0:\n",
    "        print(\"\\nEnter valid details\")\n",
    "    else:\n",
    "        bmi = calculate_bmi(height, weight)\n",
    "        print(\"\\nYour Body Mass Index is:\", bmi)\n",
    "        bmi_category = interpret_bmi(bmi)\n",
    "        print(\"You are\", bmi_category)\n",
    "\n",
    "except ValueError:\n",
    "    print(\"\\nInvalid input. Please enter valid numeric values for height and weight.\")\n"
   ]
  }
 ],
 "metadata": {
  "kernelspec": {
   "display_name": "Python 3 (ipykernel)",
   "language": "python",
   "name": "python3"
  },
  "language_info": {
   "codemirror_mode": {
    "name": "ipython",
    "version": 3
   },
   "file_extension": ".py",
   "mimetype": "text/x-python",
   "name": "python",
   "nbconvert_exporter": "python",
   "pygments_lexer": "ipython3",
   "version": "3.9.13"
  }
 },
 "nbformat": 4,
 "nbformat_minor": 5
}
