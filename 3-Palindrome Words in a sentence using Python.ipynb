{
 "cells": [
  {
   "cell_type": "markdown",
   "id": "6e5345bd",
   "metadata": {},
   "source": [
    "## Palindrome Words in a sentence using Python"
   ]
  },
  {
   "cell_type": "code",
   "execution_count": null,
   "id": "ee08b247",
   "metadata": {},
   "outputs": [],
   "source": [
    "import re\n",
    "\n",
    "# Function to check if a word is a palindrome\n",
    "def is_palindrome(word):    \n",
    "    return word == word[::-1]\n",
    "\n",
    "# Function to find palindrome words in a sentence\n",
    "def find_palindromes(sentence):    \n",
    "    \n",
    "    # Remove special characters using regular expressions\n",
    "    sentence = re.sub(r'[^a-zA-Z0-9\\s]', '', sentence)\n",
    "      \n",
    "    words = sentence.split()\n",
    "    palindrome_words = []\n",
    "    \n",
    "    for word in words:           \n",
    "        if is_palindrome(word.lower()):\n",
    "            palindrome_words.append(word)\n",
    "    \n",
    "    return palindrome_words\n",
    "\n",
    "input_sentence = input(\"Enter a sentence : \")\n",
    "palindromes = find_palindromes(input_sentence)\n",
    "print(\"Palindrome words:\", palindromes)"
   ]
  }
 ],
 "metadata": {
  "kernelspec": {
   "display_name": "Python 3 (ipykernel)",
   "language": "python",
   "name": "python3"
  },
  "language_info": {
   "codemirror_mode": {
    "name": "ipython",
    "version": 3
   },
   "file_extension": ".py",
   "mimetype": "text/x-python",
   "name": "python",
   "nbconvert_exporter": "python",
   "pygments_lexer": "ipython3",
   "version": "3.9.13"
  }
 },
 "nbformat": 4,
 "nbformat_minor": 5
}
