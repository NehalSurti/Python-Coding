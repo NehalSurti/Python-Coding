{
 "cells": [
  {
   "cell_type": "code",
   "execution_count": 14,
   "id": "116636f5",
   "metadata": {},
   "outputs": [
    {
     "name": "stdout",
     "output_type": "stream",
     "text": [
      "Enter temperature in Fahrenheit : 100\n",
      "Temperature in Degree Celsius :  37.778\n"
     ]
    }
   ],
   "source": [
    "def convert(temp):\n",
    "    f=float(temp) # Convert the input temperature to float\n",
    "    \n",
    "    c=(f-32) * (5/9) # Perform the Fahrenheit to Celsius conversion\n",
    "    \n",
    "    return round(c,3) # Round the Celsius value to 3 decimal places\n",
    "\n",
    "Fahrenheit = input(\"Enter temperature in Fahrenheit : \")\n",
    "\n",
    "print(\"Temperature in Degree Celsius : \",convert(Fahrenheit))    "
   ]
  }
 ],
 "metadata": {
  "kernelspec": {
   "display_name": "Python 3 (ipykernel)",
   "language": "python",
   "name": "python3"
  },
  "language_info": {
   "codemirror_mode": {
    "name": "ipython",
    "version": 3
   },
   "file_extension": ".py",
   "mimetype": "text/x-python",
   "name": "python",
   "nbconvert_exporter": "python",
   "pygments_lexer": "ipython3",
   "version": "3.9.13"
  }
 },
 "nbformat": 4,
 "nbformat_minor": 5
}
