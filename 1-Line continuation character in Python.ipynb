{
 "cells": [
  {
   "cell_type": "markdown",
   "id": "8ad58d80",
   "metadata": {},
   "source": [
    "### Line continuation character in Python"
   ]
  },
  {
   "cell_type": "code",
   "execution_count": 1,
   "id": "89cffe0e",
   "metadata": {},
   "outputs": [
    {
     "name": "stdout",
     "output_type": "stream",
     "text": [
      "I know Python and it's very easy for everyone\n"
     ]
    }
   ],
   "source": [
    "print(\"I know Python and it's very easy for everyone\")"
   ]
  },
  {
   "cell_type": "code",
   "execution_count": 2,
   "id": "47845029",
   "metadata": {},
   "outputs": [
    {
     "ename": "SyntaxError",
     "evalue": "EOL while scanning string literal (3574025269.py, line 1)",
     "output_type": "error",
     "traceback": [
      "\u001b[1;36m  File \u001b[1;32m\"C:\\Users\\nehal\\AppData\\Local\\Temp\\ipykernel_6612\\3574025269.py\"\u001b[1;36m, line \u001b[1;32m1\u001b[0m\n\u001b[1;33m    print(\"I know Python and\u001b[0m\n\u001b[1;37m                             ^\u001b[0m\n\u001b[1;31mSyntaxError\u001b[0m\u001b[1;31m:\u001b[0m EOL while scanning string literal\n"
     ]
    }
   ],
   "source": [
    "print(\"I know Python and \n",
    "      it's very easy for everyone\")"
   ]
  },
  {
   "cell_type": "code",
   "execution_count": 4,
   "id": "5a2eea09",
   "metadata": {},
   "outputs": [
    {
     "name": "stdout",
     "output_type": "stream",
     "text": [
      "I know Python and it's very easy for everyone\n"
     ]
    }
   ],
   "source": [
    "# In Python, a backslash (\\) is a continuation character.\n",
    "\n",
    "print(\"I know Python and \\\n",
    "it's very easy for everyone\")"
   ]
  }
 ],
 "metadata": {
  "kernelspec": {
   "display_name": "Python 3 (ipykernel)",
   "language": "python",
   "name": "python3"
  },
  "language_info": {
   "codemirror_mode": {
    "name": "ipython",
    "version": 3
   },
   "file_extension": ".py",
   "mimetype": "text/x-python",
   "name": "python",
   "nbconvert_exporter": "python",
   "pygments_lexer": "ipython3",
   "version": "3.9.13"
  }
 },
 "nbformat": 4,
 "nbformat_minor": 5
}
