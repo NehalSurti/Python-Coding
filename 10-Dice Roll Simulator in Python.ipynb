{
 "cells": [
  {
   "cell_type": "code",
   "execution_count": 1,
   "id": "6da82e97",
   "metadata": {},
   "outputs": [
    {
     "name": "stdout",
     "output_type": "stream",
     "text": [
      "Rolling the dice...\n",
      "The value is: 1\n",
      "\n",
      "Roll the dice again? (yes/y to continue, any other input to exit): y\n",
      "Rolling the dice...\n",
      "The value is: 1\n",
      "\n",
      "Roll the dice again? (yes/y to continue, any other input to exit): N\n"
     ]
    }
   ],
   "source": [
    "# Import the random module to generate random numbers\n",
    "import random\n",
    "\n",
    "# Define the minimum and maximum values for the dice\n",
    "min_val = 1\n",
    "max_val = 6\n",
    "\n",
    "# Start an indefinite loop to keep rolling the dice until the user decides to stop\n",
    "while True:\n",
    "    # Print a message indicating that the dice is being rolled\n",
    "    print(\"Rolling the dice...\")\n",
    "    \n",
    "    # Generate a random number between min_val and max_val (inclusive) and print it\n",
    "    print(\"The value is:\", random.randint(min_val, max_val))\n",
    "    \n",
    "    # Ask the user if they want to roll the dice again, and store their input in a variable\n",
    "    roll_again_input = input(\"\\nRoll the dice again? (yes/y to continue, any other input to exit): \").lower()\n",
    "    \n",
    "    # Check if the user wants to continue rolling the dice\n",
    "    if roll_again_input not in {\"yes\", \"y\"}:\n",
    "        # If the user enters anything other than \"yes\" or \"y\", break out of the loop to stop rolling the dice\n",
    "        break"
   ]
  }
 ],
 "metadata": {
  "kernelspec": {
   "display_name": "Python 3 (ipykernel)",
   "language": "python",
   "name": "python3"
  },
  "language_info": {
   "codemirror_mode": {
    "name": "ipython",
    "version": 3
   },
   "file_extension": ".py",
   "mimetype": "text/x-python",
   "name": "python",
   "nbconvert_exporter": "python",
   "pygments_lexer": "ipython3",
   "version": "3.9.13"
  }
 },
 "nbformat": 4,
 "nbformat_minor": 5
}
