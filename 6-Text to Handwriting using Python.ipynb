{
 "cells": [
  {
   "cell_type": "code",
   "execution_count": 18,
   "id": "e4241d66",
   "metadata": {},
   "outputs": [
    {
     "name": "stdout",
     "output_type": "stream",
     "text": [
      "Enter your text to convert: Hello\n"
     ]
    }
   ],
   "source": [
    "from PIL import Image, ImageDraw, ImageFont\n",
    "import cv2\n",
    "\n",
    "text = input(\"Enter your text to convert: \")\n",
    "\n",
    "# Create a blank white image with the desired size\n",
    "desired_width = 800\n",
    "desired_height = 600\n",
    "image = Image.new(\"RGB\", (desired_width, desired_height), \"white\")\n",
    "draw = ImageDraw.Draw(image)\n",
    "\n",
    "# Set the font properties\n",
    "font_path = \"Grace Moretza Regular.otf\"  # Path to desired font file\n",
    "font_size = 50\n",
    "font = ImageFont.truetype(font_path, font_size)\n",
    "\n",
    "# Calculate the text size to center it on the image\n",
    "text_box = draw.textbbox((0, 0), text, font=font) # Tuple that contains four values: (x_min, y_min, x_max, y_max)\n",
    "text_width = text_box[2] - text_box[0]\n",
    "text_height = text_box[3] - text_box[1]\n",
    "text_position = ((desired_width - text_width) // 2, (desired_height - text_height) // 2)\n",
    "\n",
    "# Draw the text on the image\n",
    "draw.text(text_position, text, fill=\"black\", font=font)\n",
    "\n",
    "# Save the image\n",
    "image.save(\"handwriting.png\")\n",
    "\n",
    "# Read the image\n",
    "image = cv2.imread('handwriting.png')\n",
    "\n",
    "if image is not None:\n",
    "    # Display the image\n",
    "    cv2.imshow('Image', image)\n",
    "    cv2.waitKey(0)\n",
    "    cv2.destroyAllWindows()\n",
    "else:\n",
    "    print('Failed to load the image.')"
   ]
  }
 ],
 "metadata": {
  "kernelspec": {
   "display_name": "Python 3 (ipykernel)",
   "language": "python",
   "name": "python3"
  },
  "language_info": {
   "codemirror_mode": {
    "name": "ipython",
    "version": 3
   },
   "file_extension": ".py",
   "mimetype": "text/x-python",
   "name": "python",
   "nbconvert_exporter": "python",
   "pygments_lexer": "ipython3",
   "version": "3.9.13"
  }
 },
 "nbformat": 4,
 "nbformat_minor": 5
}
