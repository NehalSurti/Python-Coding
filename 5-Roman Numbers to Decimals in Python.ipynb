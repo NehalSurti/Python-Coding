{
 "cells": [
  {
   "cell_type": "code",
   "execution_count": 12,
   "id": "89b670a1",
   "metadata": {},
   "outputs": [
    {
     "name": "stdout",
     "output_type": "stream",
     "text": [
      "Enter Roman Number: MCMXLIV\n",
      "Decimal value: 1944\n"
     ]
    }
   ],
   "source": [
    "def roman_to_decimal(roman_numeral):\n",
    "    roman_values = {\n",
    "        'I': 1,\n",
    "        'V': 5,\n",
    "        'X': 10,\n",
    "        'L': 50,\n",
    "        'C': 100,\n",
    "        'D': 500,\n",
    "        'M': 1000\n",
    "    }\n",
    "    total = 0\n",
    "\n",
    "    # Iterate through each pair of adjacent characters in the Roman numeral\n",
    "    for i in range(len(roman_numeral) - 1):\n",
    "        left = roman_numeral[i]  # Left character\n",
    "        right = roman_numeral[i + 1]  # Right character\n",
    "\n",
    "        # If the value of the left character is less than the value of the right character,\n",
    "        # subtract the left value from the total; otherwise, add it to the total.\n",
    "        if roman_values[left] < roman_values[right]:\n",
    "            total -= roman_values[left]\n",
    "        else:\n",
    "            total += roman_values[left]\n",
    "\n",
    "    # Add the value of the last character of the Roman numeral to the total\n",
    "    total += roman_values[roman_numeral[-1]]\n",
    "\n",
    "    return total\n",
    "\n",
    "roman = input(\"Enter Roman Number: \")\n",
    "decimal = roman_to_decimal(roman)\n",
    "print(\"Decimal value:\", decimal)"
   ]
  }
 ],
 "metadata": {
  "kernelspec": {
   "display_name": "Python 3 (ipykernel)",
   "language": "python",
   "name": "python3"
  },
  "language_info": {
   "codemirror_mode": {
    "name": "ipython",
    "version": 3
   },
   "file_extension": ".py",
   "mimetype": "text/x-python",
   "name": "python",
   "nbconvert_exporter": "python",
   "pygments_lexer": "ipython3",
   "version": "3.9.13"
  }
 },
 "nbformat": 4,
 "nbformat_minor": 5
}
