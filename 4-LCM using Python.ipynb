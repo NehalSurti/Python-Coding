{
 "cells": [
  {
   "cell_type": "code",
   "execution_count": 48,
   "id": "9015b16e",
   "metadata": {},
   "outputs": [
    {
     "name": "stdout",
     "output_type": "stream",
     "text": [
      "Enter 1st number : 56\n",
      "Enter 2nd number : 75\n",
      "LCM =  4200\n"
     ]
    }
   ],
   "source": [
    "# Using Euclid's Algorithm to calculate the Greatest Common Fator(GCF) \n",
    "def gcd(a, b):\n",
    "    if a < b:\n",
    "        a, b = b, a  # Swap a and b if a is smaller\n",
    "    while b != 0:\n",
    "        a, b = b, a % b\n",
    "    return a\n",
    "\n",
    "# Calculate the Least Common Multiple (LCM) using the GCF\n",
    "def lcm(a,b):\n",
    "    LCM = (a*b)/gcd(a,b)\n",
    "    return round(LCM)\n",
    "\n",
    "# Prompt user for input\n",
    "a=abs(int(input(\"Enter 1st number except zero : \")))\n",
    "b=abs(int(input(\"Enter 2nd number except zero : \")))\n",
    "\n",
    "# Calculate and display the LCM\n",
    "print(\"LCM = \",lcm(a,b))"
   ]
  }
 ],
 "metadata": {
  "kernelspec": {
   "display_name": "Python 3 (ipykernel)",
   "language": "python",
   "name": "python3"
  },
  "language_info": {
   "codemirror_mode": {
    "name": "ipython",
    "version": 3
   },
   "file_extension": ".py",
   "mimetype": "text/x-python",
   "name": "python",
   "nbconvert_exporter": "python",
   "pygments_lexer": "ipython3",
   "version": "3.9.13"
  }
 },
 "nbformat": 4,
 "nbformat_minor": 5
}
